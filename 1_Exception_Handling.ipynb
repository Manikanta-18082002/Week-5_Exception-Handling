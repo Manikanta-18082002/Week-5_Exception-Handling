{
 "cells": [
  {
   "cell_type": "markdown",
   "id": "4f8adb4e",
   "metadata": {},
   "source": [
    "Q1. What is an Exception in python? Write the difference between Exceptions and Syntax errors"
   ]
  },
  {
   "cell_type": "markdown",
   "id": "8fda58e2",
   "metadata": {},
   "source": [
    "### Exception:\n",
    "\n",
    "1) An exception is an error that occurs during the execution of a program.\n",
    "2) It happens when something unexpected or erroneous occurs while the program is running.\n",
    "3) Exceptions can be handled using try and except blocks\n",
    "4) Ex: ZeroDivisionError, ValueError, FileNotFoundError, AttributeError...\n",
    "    \n",
    "### Syntax Error:\n",
    "\n",
    "1) A syntax error occurs when there is a violation of the Python language rules, making the code structurally incorrect.\n",
    "2) It is detected by the Python interpreter during the parsing or compiling phase before the program execution starts.\n",
    "3) Syntax errors prevent the program from running at all until you fix the code.\n",
    "4) Ex:missing colons, incorrect indentation, and misspelled keywords.\n",
    "    \n"
   ]
  },
  {
   "cell_type": "code",
   "execution_count": null,
   "id": "c965a49e",
   "metadata": {},
   "outputs": [],
   "source": []
  },
  {
   "cell_type": "markdown",
   "id": "389d0574",
   "metadata": {},
   "source": [
    "Q2. What happens when an exception is not handled? Explain with an example?"
   ]
  },
  {
   "cell_type": "code",
   "execution_count": 3,
   "id": "c606d58a",
   "metadata": {},
   "outputs": [
    {
     "name": "stdout",
     "output_type": "stream",
     "text": [
      "When an exception is not handled, it leads to the termination of the current running program with an error message. \n",
      "\n"
     ]
    },
    {
     "ename": "ZeroDivisionError",
     "evalue": "division by zero",
     "output_type": "error",
     "traceback": [
      "\u001b[1;31m---------------------------------------------------------------------------\u001b[0m",
      "\u001b[1;31mZeroDivisionError\u001b[0m                         Traceback (most recent call last)",
      "Cell \u001b[1;32mIn[3], line 5\u001b[0m\n\u001b[0;32m      2\u001b[0m \u001b[38;5;28mprint\u001b[39m()\n\u001b[0;32m      4\u001b[0m \u001b[38;5;28;01mtry\u001b[39;00m:\n\u001b[1;32m----> 5\u001b[0m     result \u001b[38;5;241m=\u001b[39m \u001b[38;5;241;43m10\u001b[39;49m\u001b[43m \u001b[49m\u001b[38;5;241;43m/\u001b[39;49m\u001b[43m \u001b[49m\u001b[38;5;241;43m0\u001b[39;49m  \u001b[38;5;66;03m# Attempting to divide by zero\u001b[39;00m\n\u001b[0;32m      6\u001b[0m \u001b[38;5;28;01mexcept\u001b[39;00m \u001b[38;5;167;01mValueError\u001b[39;00m \u001b[38;5;28;01mas\u001b[39;00m e:\n\u001b[0;32m      7\u001b[0m     \u001b[38;5;28mprint\u001b[39m(\u001b[38;5;124m\"\u001b[39m\u001b[38;5;124mThis won\u001b[39m\u001b[38;5;124m'\u001b[39m\u001b[38;5;124mt be executed because it\u001b[39m\u001b[38;5;124m'\u001b[39m\u001b[38;5;124ms the wrong type of exception.\u001b[39m\u001b[38;5;124m\"\u001b[39m)\n",
      "\u001b[1;31mZeroDivisionError\u001b[0m: division by zero"
     ]
    }
   ],
   "source": [
    "print(\"When an exception is not handled, it leads to the termination of the current running program with an error message. \")\n",
    "print()\n",
    "\n",
    "try:\n",
    "    result = 10 / 0  # Attempting to divide by zero\n",
    "except ValueError as e:\n",
    "    print(\"This won't be executed because it's the wrong type of exception.\")\n"
   ]
  },
  {
   "cell_type": "code",
   "execution_count": null,
   "id": "f40a3c1d",
   "metadata": {},
   "outputs": [],
   "source": []
  },
  {
   "cell_type": "markdown",
   "id": "51341c00",
   "metadata": {},
   "source": [
    "Q3. Which Python statements are used to catch and handle exceptions? Explain with an example"
   ]
  },
  {
   "cell_type": "code",
   "execution_count": 4,
   "id": "ee1ff1dc",
   "metadata": {},
   "outputs": [
    {
     "name": "stdout",
     "output_type": "stream",
     "text": [
      "try and except statements to catch and handle exceptions.\n",
      "\n",
      "An error occurred that is: division by zero\n"
     ]
    }
   ],
   "source": [
    "print(\"try and except statements to catch and handle exceptions.\")\n",
    "print()\n",
    "\n",
    "# Below code that raise an exception\n",
    "try:\n",
    "    x = 10 / 0  # This will raise a ZeroDivisionError\n",
    "except ZeroDivisionError as e:# Code to handle the exception\n",
    "    print(\"An error occurred that is:\", e)"
   ]
  },
  {
   "cell_type": "code",
   "execution_count": null,
   "id": "484cf331",
   "metadata": {},
   "outputs": [],
   "source": []
  },
  {
   "cell_type": "markdown",
   "id": "ed712723",
   "metadata": {},
   "source": [
    "Q4. Explain with an example:\n",
    "    #try and\n",
    "    #else\n",
    "    #finally\n",
    "    #raise"
   ]
  },
  {
   "cell_type": "markdown",
   "id": "53e4dcd7",
   "metadata": {},
   "source": [
    "1) try and else: If an error occour in the try block then else will no get executed, other wise it will execute if no error in try block\n",
    "\n",
    "2) finally: will always be executed regardless of the result in try or except block (Used to close the Database connections and files..)\n",
    "    \n",
    "3) raise: The raise statement is used to raise a specific exception manually. You can use it when you want to signal an error or exception in your code."
   ]
  },
  {
   "cell_type": "code",
   "execution_count": 8,
   "id": "ebee849d",
   "metadata": {},
   "outputs": [
    {
     "name": "stdout",
     "output_type": "stream",
     "text": [
      "Example of try and else\n",
      "\n",
      "An error occurred that is: division by zero\n"
     ]
    }
   ],
   "source": [
    "print(\"Example of try and else\")\n",
    "print()\n",
    "\n",
    "\n",
    "# Below code that raise an exception\n",
    "try:\n",
    "    x = 10 / 0  # This will raise a ZeroDivisionError else not execute\n",
    "    x =10/2    #Else will execute\n",
    "except ZeroDivisionError as e:# Code to handle the exception\n",
    "    print(\"An error occurred that is:\", e)\n",
    "else:\n",
    "    print(\"This else will execute if no exception occours in try block\")"
   ]
  },
  {
   "cell_type": "code",
   "execution_count": 10,
   "id": "b318b4fe",
   "metadata": {},
   "outputs": [
    {
     "name": "stdout",
     "output_type": "stream",
     "text": [
      "Example of finally\n",
      "\n",
      "File not found :(  [Errno 2] No such file or directory: 'test.txt'\n"
     ]
    },
    {
     "ename": "NameError",
     "evalue": "name 'file' is not defined",
     "output_type": "error",
     "traceback": [
      "\u001b[1;31m---------------------------------------------------------------------------\u001b[0m",
      "\u001b[1;31mNameError\u001b[0m                                 Traceback (most recent call last)",
      "Cell \u001b[1;32mIn[10], line 10\u001b[0m\n\u001b[0;32m      8\u001b[0m     \u001b[38;5;28mprint\u001b[39m(\u001b[38;5;124m\"\u001b[39m\u001b[38;5;124mFile not found :( \u001b[39m\u001b[38;5;124m\"\u001b[39m,e)\n\u001b[0;32m      9\u001b[0m \u001b[38;5;28;01mfinally\u001b[39;00m:\n\u001b[1;32m---> 10\u001b[0m     \u001b[43mfile\u001b[49m\u001b[38;5;241m.\u001b[39mclose()\n",
      "\u001b[1;31mNameError\u001b[0m: name 'file' is not defined"
     ]
    }
   ],
   "source": [
    "print(\"Example of finally\")\n",
    "print()\n",
    "\n",
    "try:\n",
    "    file = open(\"test.txt\", 'r')\n",
    "    data = file.read()\n",
    "except FileNotFoundError as e:\n",
    "    print(\"File not found :( \",e)\n",
    "finally:\n",
    "    file.close()"
   ]
  },
  {
   "cell_type": "code",
   "execution_count": 12,
   "id": "5e1c94b4",
   "metadata": {},
   "outputs": [
    {
     "name": "stdout",
     "output_type": "stream",
     "text": [
      "Example of raise\n",
      "\n",
      "Error is:  Can't divide by zero\n"
     ]
    }
   ],
   "source": [
    "print(\"Example of raise\")\n",
    "print()\n",
    "\n",
    "def division(a,b):\n",
    "    if b==0:\n",
    "        raise ZeroDivisionError(\"Can't divide by zero\")\n",
    "    else:\n",
    "        a/b\n",
    "        \n",
    "try:\n",
    "    ans = division(10,0)\n",
    "except ZeroDivisionError as e:\n",
    "    print(\"Error is: \",e)"
   ]
  },
  {
   "cell_type": "code",
   "execution_count": null,
   "id": "1b2c163a",
   "metadata": {},
   "outputs": [],
   "source": []
  },
  {
   "cell_type": "markdown",
   "id": "d32ca27c",
   "metadata": {},
   "source": [
    "5) What are Custom Exceptions in python? Why do we need Custom Exceptions? Explain with an example\n",
    "AND\n",
    "6) Create custom exception class Use this ,class to handle an exception."
   ]
  },
  {
   "cell_type": "code",
   "execution_count": 17,
   "id": "97012f2c",
   "metadata": {},
   "outputs": [
    {
     "name": "stdout",
     "output_type": "stream",
     "text": [
      "Custom exceptions in Python are user-defined exception classes that allow we to create our own types of exceptions to handle specific error conditions in your code. \n",
      "\n",
      "Enter your age: 12\n",
      "Error: You must be at least 18 years old.\n"
     ]
    }
   ],
   "source": [
    "print(\"Custom exceptions in Python are user-defined exception classes that allow we to create our own types of exceptions to handle specific error conditions in your code. \")\n",
    "print()\n",
    "\n",
    "\n",
    "class MyCustomError(Exception):\n",
    "    def __init__(self, message):\n",
    "        super().__init__(message)\n",
    "\n",
    "# Function that raises the custom exception\n",
    "def check_age(age):\n",
    "    if age < 18:\n",
    "        raise MyCustomError(\"You must be at least 18 years old.\")\n",
    "\n",
    "# Main program\n",
    "try:\n",
    "    user_age = int(input(\"Enter your age: \"))\n",
    "    check_age(user_age)\n",
    "    print(\"Access granted.\")\n",
    "except MyCustomError as e:\n",
    "    print(f\"Error: {e}\")\n"
   ]
  },
  {
   "cell_type": "code",
   "execution_count": null,
   "id": "0765b19c",
   "metadata": {},
   "outputs": [],
   "source": []
  },
  {
   "cell_type": "code",
   "execution_count": null,
   "id": "b95939f6",
   "metadata": {},
   "outputs": [],
   "source": []
  },
  {
   "cell_type": "code",
   "execution_count": null,
   "id": "4ad0f253",
   "metadata": {},
   "outputs": [],
   "source": []
  },
  {
   "cell_type": "code",
   "execution_count": null,
   "id": "21361a8d",
   "metadata": {},
   "outputs": [],
   "source": []
  }
 ],
 "metadata": {
  "kernelspec": {
   "display_name": "Python 3 (ipykernel)",
   "language": "python",
   "name": "python3"
  },
  "language_info": {
   "codemirror_mode": {
    "name": "ipython",
    "version": 3
   },
   "file_extension": ".py",
   "mimetype": "text/x-python",
   "name": "python",
   "nbconvert_exporter": "python",
   "pygments_lexer": "ipython3",
   "version": "3.11.4"
  }
 },
 "nbformat": 4,
 "nbformat_minor": 5
}
